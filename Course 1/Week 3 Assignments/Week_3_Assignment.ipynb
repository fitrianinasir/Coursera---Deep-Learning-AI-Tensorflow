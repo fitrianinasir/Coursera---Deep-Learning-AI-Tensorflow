{
  "nbformat": 4,
  "nbformat_minor": 0,
  "metadata": {
    "colab": {
      "name": "Week 3 Assignment.ipynb",
      "provenance": []
    },
    "kernelspec": {
      "name": "python3",
      "display_name": "Python 3"
    },
    "language_info": {
      "name": "python"
    }
  },
  "cells": [
    {
      "cell_type": "code",
      "metadata": {
        "id": "fFefe2_His9_"
      },
      "source": [
        "import tensorflow as tf\n",
        "from os import path, getcwd, chdir\n",
        "\n",
        "path = f\"{getcwd()}/../tmp2/mnist.npz\""
      ],
      "execution_count": null,
      "outputs": []
    },
    {
      "cell_type": "code",
      "metadata": {
        "id": "7j11pEzokpXm"
      },
      "source": [
        "config = tf.ConfigProto()\n",
        "config.gpu_options.allow_growth = True\n",
        "sess = tf.Session(config=config)"
      ],
      "execution_count": null,
      "outputs": []
    },
    {
      "cell_type": "code",
      "metadata": {
        "id": "_MB8euU_kqg8"
      },
      "source": [
        "# GRADED FUNCTION: train_mnist_conv\n",
        "def train_mnist_conv():\n",
        "    \n",
        "    class myCallback(tf.keras.callbacks.Callback):\n",
        "        def on_epoch_end(self, epoch, logs={}):\n",
        "            if (logs.get('acc') > 0.998):\n",
        "                print('\\nReached 99.8% accuracy so cancelling training!')\n",
        "                self.model.stop_training = True\n",
        "\n",
        "    callback = myCallback()\n",
        "\n",
        "    mnist = tf.keras.datasets.mnist\n",
        "    \n",
        "    (training_images, training_labels), (test_images, test_labels) = mnist.load_data(path=path)\n",
        "\n",
        "    training_images = training_images.reshape(60000, 28, 28, 1)\n",
        "    training_images = training_images / 255.0\n",
        "    test_images = test_images.reshape(10000, 28, 28, 1)\n",
        "    test_images = test_images / 255.0\n",
        "\n",
        "    model = tf.keras.models.Sequential([\n",
        "            tf.keras.layers.Conv2D(64, (3,3), activation=\"relu\", input_shape=(28, 28, 1)),\n",
        "            tf.keras.layers.MaxPooling2D(2,2),\n",
        "            tf.keras.layers.Flatten(),\n",
        "            tf.keras.layers.Dense(128, activation=\"relu\"),\n",
        "            tf.keras.layers.Dense(10, activation=\"softmax\")\n",
        "    ])\n",
        "\n",
        "    model.compile(optimizer='adam', loss='sparse_categorical_crossentropy', metrics=['accuracy'])\n",
        "\n",
        "    # model fitting\n",
        "    history = model.fit(training_images, training_labels, epochs=20, callbacks=[callback])\n",
        "    \n",
        "    return history.epoch, history.history['acc'][-1]\n",
        "\n"
      ],
      "execution_count": null,
      "outputs": []
    },
    {
      "cell_type": "code",
      "metadata": {
        "id": "RGtvWyXok2Gl"
      },
      "source": [
        "test_loss, test_acc = train_mnist_conv()\n",
        "print(test_acc)"
      ],
      "execution_count": null,
      "outputs": []
    }
  ]
}